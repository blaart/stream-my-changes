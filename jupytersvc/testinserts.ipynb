{
 "cells": [
  {
   "cell_type": "code",
   "execution_count": null,
   "metadata": {
    "scrolled": false
   },
   "outputs": [],
   "source": [
    "%%bash\n",
    "mysql -h databasesvc -u myuser --password=mypassword -v -t mydb -e \"select * from contract;\""
   ]
  },
  {
   "cell_type": "code",
   "execution_count": null,
   "metadata": {
    "scrolled": true
   },
   "outputs": [
    {
     "ename": "",
     "evalue": "",
     "output_type": "error",
     "traceback": [
      "\u001b[1;31mRunning cells with 'Python 3.8.2 64-bit' requires ipykernel package.\n",
      "Run the following command to install 'ipykernel' into the Python environment. \n",
      "Command: '/usr/bin/python3 -m pip install ipykernel -U --user --force-reinstall'"
     ]
    }
   ],
   "source": [
    "%%bash\n",
    "aws --endpoint-url=http://awssvc:4566 dynamodb scan --table-name=contract1\n",
    "aws --endpoint-url=http://awssvc:4566 dynamodb scan --table-name=contract2"
   ]
  },
  {
   "cell_type": "code",
   "execution_count": null,
   "metadata": {},
   "outputs": [],
   "source": [
    "%%bash\n",
    "mysql -h databasesvc -u myuser --password=mypassword -t mydb \\\n",
    "-e 'INSERT INTO contract (contractnumber, product, amount) VALUES (\"12345683\", \"MIN\", 200000.00); \n",
    "INSERT INTO contract (contractnumber, product, amount) VALUES (\"12345684\", \"TOP\", 150000.00); \n",
    "commit;'"
   ]
  },
  {
   "cell_type": "code",
   "execution_count": null,
   "metadata": {},
   "outputs": [],
   "source": [
    "%%bash\n",
    "aws --endpoint-url=http://awssvc:4566 dynamodb scan --table-name=contract1\n",
    "aws --endpoint-url=http://awssvc:4566 dynamodb scan --table-name=contract2"
   ]
  },
  {
   "cell_type": "code",
   "execution_count": null,
   "metadata": {},
   "outputs": [],
   "source": [
    "%%bash\n",
    "for i in {12345683..12345693}\n",
    "do\n",
    "  mysql -h databasesvc -u myuser --password=mypassword -t mydb \\\n",
    "     -e \"INSERT INTO contract (contractnumber, product, amount) VALUES ('${i}', 'MIN', 200000.00);commit;\"\n",
    "  echo \"Inserted $i\"\n",
    "done"
   ]
  },
  {
   "cell_type": "code",
   "execution_count": null,
   "metadata": {},
   "outputs": [],
   "source": [
    "%%bash\n",
    "aws --endpoint-url=http://awssvc:4566 logs describe-log-groups\n"
   ]
  }
 ],
 "metadata": {
  "kernelspec": {
   "display_name": "Python 3",
   "language": "python",
   "name": "python3"
  },
  "language_info": {
   "codemirror_mode": {
    "name": "ipython",
    "version": 3
   },
   "file_extension": ".py",
   "mimetype": "text/x-python",
   "name": "python",
   "nbconvert_exporter": "python",
   "pygments_lexer": "ipython3",
   "version": "3.8.2"
  }
 },
 "nbformat": 4,
 "nbformat_minor": 2
}
